{
  "nbformat": 4,
  "nbformat_minor": 0,
  "metadata": {
    "colab": {
      "provenance": []
    },
    "kernelspec": {
      "name": "python3",
      "display_name": "Python 3"
    },
    "language_info": {
      "name": "python"
    }
  },
  "cells": [
    {
      "cell_type": "markdown",
      "source": [
        "# **Artifical Neuron Networks**\n",
        "\n",
        "A Neural Network is a supervised machine learning algorithm that tries to copy how are brain neurons work together to make decisions. They are particularly good at classification problems, however creating and training a neural network models requires a lot of time and computing power.\n",
        "\n",
        "My objective is to use neuron networks to classify a data point."
      ],
      "metadata": {
        "id": "pjNdGMLqhYyT"
      }
    },
    {
      "cell_type": "markdown",
      "source": [
        "### **Task: Use neuron networks to classify a data point.**"
      ],
      "metadata": {
        "id": "GNdrN3BGbDXV"
      }
    },
    {
      "cell_type": "markdown",
      "source": [
        "First I need to import the necessary modules needed:"
      ],
      "metadata": {
        "id": "UT3oeoGHiM_Y"
      }
    },
    {
      "cell_type": "code",
      "execution_count": null,
      "metadata": {
        "colab": {
          "base_uri": "https://localhost:8080/"
        },
        "id": "YM-7Q9h2dzPB",
        "outputId": "c6e5bd6d-33e7-40b3-a15e-883073db282d"
      },
      "outputs": [
        {
          "output_type": "stream",
          "name": "stdout",
          "text": [
            "Looking in indexes: https://pypi.org/simple, https://us-python.pkg.dev/colab-wheels/public/simple/\n",
            "Requirement already satisfied: numpy in /usr/local/lib/python3.10/dist-packages (1.22.4)\n",
            "Looking in indexes: https://pypi.org/simple, https://us-python.pkg.dev/colab-wheels/public/simple/\n",
            "Requirement already satisfied: scikit-learn in /usr/local/lib/python3.10/dist-packages (1.2.2)\n",
            "Requirement already satisfied: numpy>=1.17.3 in /usr/local/lib/python3.10/dist-packages (from scikit-learn) (1.22.4)\n",
            "Requirement already satisfied: scipy>=1.3.2 in /usr/local/lib/python3.10/dist-packages (from scikit-learn) (1.10.1)\n",
            "Requirement already satisfied: joblib>=1.1.1 in /usr/local/lib/python3.10/dist-packages (from scikit-learn) (1.2.0)\n",
            "Requirement already satisfied: threadpoolctl>=2.0.0 in /usr/local/lib/python3.10/dist-packages (from scikit-learn) (3.1.0)\n"
          ]
        }
      ],
      "source": [
        "!pip install numpy\n",
        "!pip install scikit-learn\n",
        "\n",
        "import numpy as np # for advanced maths\n",
        "from sklearn.datasets import load_digits # used as our input to the neuron network\n",
        "from sklearn.model_selection import train_test_split # used to perform the testing data and training data split\n",
        "from sklearn.neural_network import MLPClassifier # a model of a neuron where each neuron contains one weight\n",
        "from sklearn.metrics import confusion_matrix, accuracy_score  # using confusion matrix to optimise our algorithm\n",
        "import matplotlib.pyplot as plt # used to present images to the user"
      ]
    },
    {
      "cell_type": "markdown",
      "source": [
        "**Import the data and take a look at it**\n",
        "- I will import dataset into a variable called data set.\n",
        "- I will load the dataset using a built in dataset to the sklearn library called load_digits and that is a large collection of images. Each image is a digit.\n",
        "- Each datapoint is a 8x8 image of a digit that returns one thousand, seven hundred and ninety seven 8x8 images of digits. 8x8 = 64, so each image contains 64 pixels. Reference: [Source](https://scikit-learn.org/stable/modules/generated/sklearn.datasets.load_digits.html)\n",
        "- So once I've imported that I will print the shape of the data."
      ],
      "metadata": {
        "id": "9cCEiX3Qm_kE"
      }
    },
    {
      "cell_type": "code",
      "source": [
        "# load the dataset:\n",
        "dataset = load_digits() #a large collection of images and each image is a digit\n",
        "\n",
        "# print to look at the data:\n",
        "print(dataset.data)\n",
        "\n",
        "# look at the shape of the data which should be (1797,64)\n",
        "print(dataset.data.shape)\n"
      ],
      "metadata": {
        "colab": {
          "base_uri": "https://localhost:8080/"
        },
        "id": "hJT6tlDnir67",
        "outputId": "50c8328c-956b-49de-eab3-3c5128ab16d4"
      },
      "execution_count": null,
      "outputs": [
        {
          "output_type": "stream",
          "name": "stdout",
          "text": [
            "[[ 0.  0.  5. ...  0.  0.  0.]\n",
            " [ 0.  0.  0. ... 10.  0.  0.]\n",
            " [ 0.  0.  0. ... 16.  9.  0.]\n",
            " ...\n",
            " [ 0.  0.  1. ...  6.  0.  0.]\n",
            " [ 0.  0.  2. ... 12.  0.  0.]\n",
            " [ 0.  0. 10. ... 12.  1.  0.]]\n",
            "(1797, 64)\n"
          ]
        }
      ]
    },
    {
      "cell_type": "markdown",
      "source": [
        "Get the first image in the dataset:"
      ],
      "metadata": {
        "id": "PrTtz4A9vQIo"
      }
    },
    {
      "cell_type": "code",
      "source": [
        "# we can view a digit\n",
        "plt.gray()\n",
        "plt.matshow(dataset.images[0]) # to get the first mage in the dataset\n",
        "plt.show() # to return the list"
      ],
      "metadata": {
        "colab": {
          "base_uri": "https://localhost:8080/",
          "height": 454
        },
        "id": "fhM309g6jM94",
        "outputId": "416f690b-1081-419a-929d-48a2fc0ec93d"
      },
      "execution_count": null,
      "outputs": [
        {
          "output_type": "display_data",
          "data": {
            "text/plain": [
              "<Figure size 640x480 with 0 Axes>"
            ]
          },
          "metadata": {}
        },
        {
          "output_type": "display_data",
          "data": {
            "text/plain": [
              "<Figure size 480x480 with 1 Axes>"
            ],
            "image/png": "[encoded data removed]"
          },
          "metadata": {}
        }
      ]
    },
    {
      "cell_type": "markdown",
      "source": [
        "Get the 62nd image in the dataset:"
      ],
      "metadata": {
        "id": "EEXDzTrvirYc"
      }
    },
    {
      "cell_type": "code",
      "source": [
        "plt.gray()\n",
        "plt.matshow(dataset.images[61]) # to get the first mage in the dataset\n",
        "plt.show() # to return the list"
      ],
      "metadata": {
        "colab": {
          "base_uri": "https://localhost:8080/",
          "height": 454
        },
        "id": "fsf6TwGTwbGE",
        "outputId": "935e4130-271f-451d-d83d-ed9d72ca097f"
      },
      "execution_count": null,
      "outputs": [
        {
          "output_type": "display_data",
          "data": {
            "text/plain": [
              "<Figure size 640x480 with 0 Axes>"
            ]
          },
          "metadata": {}
        },
        {
          "output_type": "display_data",
          "data": {
            "text/plain": [
              "<Figure size 480x480 with 1 Axes>"
            ],
            "image/png": "[encoded data removed]"
          },
          "metadata": {}
        }
      ]
    },
    {
      "cell_type": "markdown",
      "source": [
        "To perform the train/test data split:"
      ],
      "metadata": {
        "id": "UevS7pJkw4SU"
      }
    },
    {
      "cell_type": "code",
      "source": [
        "# target refers to the classification target\n",
        "# the random state controls the data shuffling\n",
        "# x refers to the data and y refers to the correct classifications\n",
        "print(dataset.target)\n",
        "x_train, x_test, y_train, y_test = train_test_split(dataset.data, dataset.target, test_size=0.20, random_state=4)"
      ],
      "metadata": {
        "colab": {
          "base_uri": "https://localhost:8080/"
        },
        "id": "1zTeHyTpw7aM",
        "outputId": "7b96b422-6cb4-45ea-99da-1e4c78b89308"
      },
      "execution_count": null,
      "outputs": [
        {
          "output_type": "stream",
          "name": "stdout",
          "text": [
            "[0 1 2 ... 8 9 8]\n"
          ]
        }
      ]
    },
    {
      "cell_type": "markdown",
      "source": [
        "Now to instanciate the classifier and train it on the data:"
      ],
      "metadata": {
        "id": "HRD_6Pmuw6j0"
      }
    },
    {
      "cell_type": "code",
      "source": [
        "# lets instantiate the model\n",
        "NN = MLPClassifier()\n",
        "\n",
        "# and then train the model on the training datset\n",
        "NN.fit(x_train, y_train)"
      ],
      "metadata": {
        "colab": {
          "base_uri": "https://localhost:8080/",
          "height": 75
        },
        "id": "VC9ZHf42xI_8",
        "outputId": "54f81c0f-a02e-4334-ecce-c85baceaeed2"
      },
      "execution_count": null,
      "outputs": [
        {
          "output_type": "execute_result",
          "data": {
            "text/plain": [
              "MLPClassifier()"
            ],
            "text/html": [
              "<style>#sk-container-id-1 {color: black;background-color: white;}#sk-container-id-1 pre{padding: 0;}#sk-container-id-1 div.sk-toggleable {background-color: white;}#sk-container-id-1 label.sk-toggleable__label {cursor: pointer;display: block;width: 100%;margin-bottom: 0;padding: 0.3em;box-sizing: border-box;text-align: center;}#sk-container-id-1 label.sk-toggleable__label-arrow:before {content: \"▸\";float: left;margin-right: 0.25em;color: #696969;}#sk-container-id-1 label.sk-toggleable__label-arrow:hover:before {color: black;}#sk-container-id-1 div.sk-estimator:hover label.sk-toggleable__label-arrow:before {color: black;}#sk-container-id-1 div.sk-toggleable__content {max-height: 0;max-width: 0;overflow: hidden;text-align: left;background-color: #f0f8ff;}#sk-container-id-1 div.sk-toggleable__content pre {margin: 0.2em;color: black;border-radius: 0.25em;background-color: #f0f8ff;}#sk-container-id-1 input.sk-toggleable__control:checked~div.sk-toggleable__content {max-height: 200px;max-width: 100%;overflow: auto;}#sk-container-id-1 input.sk-toggleable__control:checked~label.sk-toggleable__label-arrow:before {content: \"▾\";}#sk-container-id-1 div.sk-estimator input.sk-toggleable__control:checked~label.sk-toggleable__label {background-color: #d4ebff;}#sk-container-id-1 div.sk-label input.sk-toggleable__control:checked~label.sk-toggleable__label {background-color: #d4ebff;}#sk-container-id-1 input.sk-hidden--visually {border: 0;clip: rect(1px 1px 1px 1px);clip: rect(1px, 1px, 1px, 1px);height: 1px;margin: -1px;overflow: hidden;padding: 0;position: absolute;width: 1px;}#sk-container-id-1 div.sk-estimator {font-family: monospace;background-color: #f0f8ff;border: 1px dotted black;border-radius: 0.25em;box-sizing: border-box;margin-bottom: 0.5em;}#sk-container-id-1 div.sk-estimator:hover {background-color: #d4ebff;}#sk-container-id-1 div.sk-parallel-item::after {content: \"\";width: 100%;border-bottom: 1px solid gray;flex-grow: 1;}#sk-container-id-1 div.sk-label:hover label.sk-toggleable__label {background-color: #d4ebff;}#sk-container-id-1 div.sk-serial::before {content: \"\";position: absolute;border-left: 1px solid gray;box-sizing: border-box;top: 0;bottom: 0;left: 50%;z-index: 0;}#sk-container-id-1 div.sk-serial {display: flex;flex-direction: column;align-items: center;background-color: white;padding-right: 0.2em;padding-left: 0.2em;position: relative;}#sk-container-id-1 div.sk-item {position: relative;z-index: 1;}#sk-container-id-1 div.sk-parallel {display: flex;align-items: stretch;justify-content: center;background-color: white;position: relative;}#sk-container-id-1 div.sk-item::before, #sk-container-id-1 div.sk-parallel-item::before {content: \"\";position: absolute;border-left: 1px solid gray;box-sizing: border-box;top: 0;bottom: 0;left: 50%;z-index: -1;}#sk-container-id-1 div.sk-parallel-item {display: flex;flex-direction: column;z-index: 1;position: relative;background-color: white;}#sk-container-id-1 div.sk-parallel-item:first-child::after {align-self: flex-end;width: 50%;}#sk-container-id-1 div.sk-parallel-item:last-child::after {align-self: flex-start;width: 50%;}#sk-container-id-1 div.sk-parallel-item:only-child::after {width: 0;}#sk-container-id-1 div.sk-dashed-wrapped {border: 1px dashed gray;margin: 0 0.4em 0.5em 0.4em;box-sizing: border-box;padding-bottom: 0.4em;background-color: white;}#sk-container-id-1 div.sk-label label {font-family: monospace;font-weight: bold;display: inline-block;line-height: 1.2em;}#sk-container-id-1 div.sk-label-container {text-align: center;}#sk-container-id-1 div.sk-container {/* jupyter's `normalize.less` sets `[hidden] { display: none; }` but bootstrap.min.css set `[hidden] { display: none !important; }` so we also need the `!important` here to be able to override the default hidden behavior on the sphinx rendered scikit-learn.org. See: https://github.com/scikit-learn/scikit-learn/issues/21755 */display: inline-block !important;position: relative;}#sk-container-id-1 div.sk-text-repr-fallback {display: none;}</style><div id=\"sk-container-id-1\" class=\"sk-top-container\"><div class=\"sk-text-repr-fallback\"><pre>MLPClassifier()</pre><b>In a Jupyter environment, please rerun this cell to show the HTML representation or trust the notebook. <br />On GitHub, the HTML representation is unable to render, please try loading this page with nbviewer.org.</b></div><div class=\"sk-container\" hidden><div class=\"sk-item\"><div class=\"sk-estimator sk-toggleable\"><input class=\"sk-toggleable__control sk-hidden--visually\" id=\"sk-estimator-id-1\" type=\"checkbox\" checked><label for=\"sk-estimator-id-1\" class=\"sk-toggleable__label sk-toggleable__label-arrow\">MLPClassifier</label><div class=\"sk-toggleable__content\"><pre>MLPClassifier()</pre></div></div></div></div></div>"
            ]
          },
          "metadata": {},
          "execution_count": 18
        }
      ]
    },
    {
      "cell_type": "markdown",
      "source": [
        "Now to test and evaluate the model:"
      ],
      "metadata": {
        "id": "GWsVZGLJxGW8"
      }
    },
    {
      "cell_type": "code",
      "source": [
        "# lets make the predictions and see what they are\n",
        "y_pred = NN.predict(x_test)\n",
        "\n",
        "# lets compare the correct classes to the predicted classes to see how accuracy our predictions are\n",
        "accuracy = accuracy_score(y_test, y_pred)\n",
        "\n",
        "# we can also make a confusion matrix of the results\n",
        "conf_mat = confusion_matrix(y_test, y_pred)"
      ],
      "metadata": {
        "id": "ILODGkXoxLqc"
      },
      "execution_count": null,
      "outputs": []
    },
    {
      "cell_type": "markdown",
      "source": [
        "Finally, I will print the results to view the performance of the model:"
      ],
      "metadata": {
        "id": "i6snOHypxNw0"
      }
    },
    {
      "cell_type": "code",
      "source": [
        "# print the accuracy (between 0 and 1) and the confusion matrix\n",
        "print(\"Accuracy for Neural Network is:\",accuracy)\n",
        "print(\"Confusion Matrix\")\n",
        "print(conf_mat)"
      ],
      "metadata": {
        "colab": {
          "base_uri": "https://localhost:8080/"
        },
        "id": "OWtqpEBbxNYE",
        "outputId": "a940a994-2b9c-43aa-862a-e6a065196475"
      },
      "execution_count": null,
      "outputs": [
        {
          "output_type": "stream",
          "name": "stdout",
          "text": [
            "Accuracy for Neural Network is: 0.975\n",
            "Confusion Matrix\n",
            "[[38  0  0  0  0  0  0  0  0  0]\n",
            " [ 0 30  2  0  0  0  0  0  0  0]\n",
            " [ 0  0 41  0  0  0  0  0  0  0]\n",
            " [ 0  0  0 32  0  1  0  0  0  0]\n",
            " [ 0  1  0  0 36  0  0  0  0  0]\n",
            " [ 0  0  0  0  0 37  0  0  0  1]\n",
            " [ 0  0  0  0  0  0 34  0  1  0]\n",
            " [ 0  0  0  0  0  0  0 38  0  0]\n",
            " [ 0  2  0  0  0  0  0  0 31  0]\n",
            " [ 0  0  0  0  0  0  0  0  1 34]]\n"
          ]
        }
      ]
    },
    {
      "cell_type": "markdown",
      "source": [
        "Comment:\n",
        "- The 38 refers to 38 predictions of class 0 that were correct.\n",
        "- Then we have 30 predictions of class 1 that were correct."
      ],
      "metadata": {
        "id": "uDELOe6wx-wz"
      }
    }
  ]
}